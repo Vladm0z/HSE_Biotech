{
  "nbformat": 4,
  "nbformat_minor": 0,
  "metadata": {
    "colab": {
      "name": "seminar3_CpG_freq.ipynb",
      "provenance": [],
      "include_colab_link": true
    },
    "kernelspec": {
      "name": "python3",
      "display_name": "Python 3"
    },
    "language_info": {
      "name": "python"
    }
  },
  "cells": [
    {
      "cell_type": "markdown",
      "metadata": {
        "id": "view-in-github",
        "colab_type": "text"
      },
      "source": [
        "<a href=\"https://colab.research.google.com/github/Vladm0z/HSE_Biotech/blob/main/seminar3_CpG_freq.ipynb\" target=\"_parent\"><img src=\"https://colab.research.google.com/assets/colab-badge.svg\" alt=\"Open In Colab\"/></a>"
      ]
    },
    {
      "cell_type": "code",
      "execution_count": null,
      "metadata": {
        "colab": {
          "base_uri": "https://localhost:8080/"
        },
        "id": "SGMTEhP4wyWP",
        "outputId": "34805950-7946-409e-eabd-2123924c1740"
      },
      "outputs": [
        {
          "output_type": "stream",
          "name": "stdout",
          "text": [
            "Requirement already satisfied: biopython in /usr/local/lib/python3.7/dist-packages (1.79)\n",
            "Requirement already satisfied: numpy in /usr/local/lib/python3.7/dist-packages (from biopython) (1.19.5)\n"
          ]
        }
      ],
      "source": [
        "!pip install biopython"
      ]
    },
    {
      "cell_type": "markdown",
      "metadata": {
        "id": "ZTlkNXsN0IcG"
      },
      "source": [
        "#Seq object"
      ]
    },
    {
      "cell_type": "code",
      "metadata": {
        "id": "NamSjaFs0NJD",
        "colab": {
          "base_uri": "https://localhost:8080/"
        },
        "outputId": "028608fe-ebb4-40f8-93b1-10eb7a7033b6"
      },
      "source": [
        "from Bio.Seq import Seq\n",
        "gene = Seq(\"GTGAAAAAGATGCAATCTATCGTACTCGCACTTTCCCTGGTTCTGGTCGCTCCCATGGCA\"\n",
        "            \"GCACAGGCTGCGGAAATTACGTTAGTCCCGTCAGTAAAATTACAGATAGGCGATCGTGAT\"\n",
        "            \"AATCGTGGCTATTACTGGGATGGAGGTCACTGGCGCGACCACGGCTGGTGGAAACAACAT\"\n",
        "            \"TATGAATGGCGAGGCAATCGCTGGCACCTACACGGACCGCCGCCACCGCCGCGCCACCAT\"\n",
        "            \"AAGAAAGCTCCTCATGATCATCACGGCGGTCATGGTCCAGGCAAACATCACCGCTAA\")\n",
        "float(gene.count(\"G\") + gene.count(\"C\"))/len(gene)"
      ],
      "execution_count": null,
      "outputs": [
        {
          "output_type": "execute_result",
          "data": {
            "text/plain": [
              "0.5387205387205387"
            ]
          },
          "metadata": {},
          "execution_count": 3
        }
      ]
    },
    {
      "cell_type": "code",
      "source": [
        "gene = Seq(\"CGCCGCGcg\")\n",
        "gene.upper().count(\"CG\")"
      ],
      "metadata": {
        "colab": {
          "base_uri": "https://localhost:8080/"
        },
        "id": "eu41TnHBz6EU",
        "outputId": "07e3ad78-c1de-4f45-c293-07b9be91c43d"
      },
      "execution_count": null,
      "outputs": [
        {
          "output_type": "execute_result",
          "data": {
            "text/plain": [
              "4"
            ]
          },
          "metadata": {},
          "execution_count": 6
        }
      ]
    },
    {
      "cell_type": "code",
      "source": [
        "gene = Seq(\"AAAA\")\n",
        "gene.upper().count(\"AA\")"
      ],
      "metadata": {
        "colab": {
          "base_uri": "https://localhost:8080/"
        },
        "id": "OKmAmXp47TPx",
        "outputId": "4bf06601-e752-4a80-8ecf-7500a7a9e805"
      },
      "execution_count": null,
      "outputs": [
        {
          "output_type": "execute_result",
          "data": {
            "text/plain": [
              "2"
            ]
          },
          "metadata": {},
          "execution_count": 4
        }
      ]
    },
    {
      "cell_type": "markdown",
      "source": [
        "#Функции"
      ],
      "metadata": {
        "id": "fKz6ZCKvC4by"
      }
    },
    {
      "cell_type": "code",
      "source": [
        "def init_di_nt_dict():\n",
        "  all_nt = ['A', 'C', 'G', 'T']\n",
        "  di_nt_dict = {}\n",
        "  for nt1 in all_nt:\n",
        "    for nt2 in all_nt:\n",
        "      di_nt_dict[nt1+nt2] = 0\n",
        "  return di_nt_dict"
      ],
      "metadata": {
        "id": "KxLldwhN3lyL"
      },
      "execution_count": null,
      "outputs": []
    },
    {
      "cell_type": "code",
      "source": [
        "def count_di_nt_in_seq(seq):\n",
        "  di_nt_dict = init_di_nt_dict()\n",
        "  for di_nt in di_nt_dict.keys():\n",
        "    di_nt_dict[di_nt] = seq.count(di_nt)\n",
        "  return di_nt_dict"
      ],
      "metadata": {
        "id": "mWKKspXm3_Ex"
      },
      "execution_count": null,
      "outputs": []
    },
    {
      "cell_type": "code",
      "source": [
        "def count_mono_nt_in_seq(seq):\n",
        "  all_nt = ['A', 'C', 'G', 'T']\n",
        "  count_dict = {}\n",
        "  for nt in all_nt:\n",
        "    count_dict[nt] = seq.count(nt)\n",
        "  return count_dict"
      ],
      "metadata": {
        "id": "Ir5mt6pU6N8C"
      },
      "execution_count": null,
      "outputs": []
    },
    {
      "cell_type": "code",
      "source": [
        "def mono_nt_freq_in_seq(seq):\n",
        "  counts_dict = count_mono_nt_in_seq(seq)\n",
        "  total_counts = sum(counts_dict.values())\n",
        "\n",
        "  freq_dict = {}\n",
        "  for k in counts_dict.keys():\n",
        "    freq_dict[k] = counts_dict[k]/total_counts\n",
        "\n",
        "  return freq_dict"
      ],
      "metadata": {
        "id": "brfZNEzhQQQS"
      },
      "execution_count": null,
      "outputs": []
    },
    {
      "cell_type": "code",
      "source": [
        "def di_nt_freq_in_seq(seq):\n",
        "  di_nt_counts = count_di_nt_in_seq(seq)\n",
        "  total_counts = sum(di_nt_counts.values())\n",
        "\n",
        "  di_nt_freq = {}\n",
        "  for di_nt in di_nt_counts.keys():\n",
        "    di_nt_freq[di_nt] = di_nt_counts[di_nt]/total_counts\n",
        "\n",
        "  return di_nt_freq"
      ],
      "metadata": {
        "id": "sfj0awk46jqS"
      },
      "execution_count": null,
      "outputs": []
    },
    {
      "cell_type": "markdown",
      "source": [
        "#Анализ"
      ],
      "metadata": {
        "id": "mTmVf_6DBSmC"
      }
    },
    {
      "cell_type": "code",
      "source": [
        "# Human: https://www.ncbi.nlm.nih.gov/genome/?term=human\n",
        "from Bio import Entrez\n",
        "from Bio import SeqIO\n",
        "Entrez.email = \"A.N.Other@example.com\"\n",
        "with Entrez.efetch(db=\"nucleotide\", id=\"NC_000022.11\", rettype=\"fasta\", retmode=\"text\") as handle:\n",
        "    chr22_record = SeqIO.read(handle, \"fasta\")\n",
        "chr22_record"
      ],
      "metadata": {
        "id": "zN9FtiaW03XM",
        "colab": {
          "base_uri": "https://localhost:8080/"
        },
        "outputId": "37c33df9-e230-4dbb-d554-6ae65744e7dc"
      },
      "execution_count": null,
      "outputs": [
        {
          "output_type": "execute_result",
          "data": {
            "text/plain": [
              "SeqRecord(seq=Seq('NNNNNNNNNNNNNNNNNNNNNNNNNNNNNNNNNNNNNNNNNNNNNNNNNNNNNN...NNN'), id='NC_000022.11', name='NC_000022.11', description='NC_000022.11 Homo sapiens chromosome 22, GRCh38.p13 Primary Assembly', dbxrefs=[])"
            ]
          },
          "metadata": {},
          "execution_count": 9
        }
      ]
    },
    {
      "cell_type": "code",
      "source": [
        "with Entrez.efetch(db=\"nucleotide\", id=\"NC_000085.7\", rettype=\"fasta\", retmode=\"text\") as handle:\n",
        "    mouse_record = SeqIO.read(handle, \"fasta\")\n",
        "mouse_record"
      ],
      "metadata": {
        "colab": {
          "base_uri": "https://localhost:8080/"
        },
        "id": "OjhhG1E8GoK7",
        "outputId": "d6fcb387-4c66-461d-9a5f-9ff29a1ad2a2"
      },
      "execution_count": null,
      "outputs": [
        {
          "output_type": "execute_result",
          "data": {
            "text/plain": [
              "SeqRecord(seq=Seq('NNNNNNNNNNNNNNNNNNNNNNNNNNNNNNNNNNNNNNNNNNNNNNNNNNNNNN...NNN'), id='NC_000085.7', name='NC_000085.7', description='NC_000085.7 Mus musculus strain C57BL/6J chromosome 19, GRCm39', dbxrefs=[])"
            ]
          },
          "metadata": {},
          "execution_count": 45
        }
      ]
    },
    {
      "cell_type": "code",
      "source": [
        "with Entrez.efetch(db=\"nucleotide\", id=\"NC_000913\", rettype=\"fasta\", retmode=\"text\") as handle:\n",
        "    bact_record = SeqIO.read(handle, \"fasta\")\n",
        "bact_record"
      ],
      "metadata": {
        "colab": {
          "base_uri": "https://localhost:8080/"
        },
        "id": "rlTP_H4XH_xK",
        "outputId": "626f925b-4053-49d7-df17-096976d7118b"
      },
      "execution_count": null,
      "outputs": [
        {
          "output_type": "execute_result",
          "data": {
            "text/plain": [
              "SeqRecord(seq=Seq('AGCTTTTCATTCTGACTGCAACGGGCAATATGTCTCTGTGTGGATTAAAAAAAG...TTC'), id='NC_000913.3', name='NC_000913.3', description='NC_000913.3 Escherichia coli str. K-12 substr. MG1655, complete genome', dbxrefs=[])"
            ]
          },
          "metadata": {},
          "execution_count": 73
        }
      ]
    },
    {
      "cell_type": "code",
      "source": [
        "with Entrez.efetch(db=\"nucleotide\", id=\"NC_003076.8\", rettype=\"fasta\", retmode=\"text\") as handle:\n",
        "    arabidosis_record = SeqIO.read(handle, \"fasta\")\n",
        "arabidosis_record"
      ],
      "metadata": {
        "colab": {
          "base_uri": "https://localhost:8080/"
        },
        "id": "hI8TBoXaJA1j",
        "outputId": "08b338f4-41b2-4307-c158-59b6cb5eed3e"
      },
      "execution_count": null,
      "outputs": [
        {
          "output_type": "execute_result",
          "data": {
            "text/plain": [
              "SeqRecord(seq=Seq('TATACCATGTACCCTCAACCTTAAAACCCTAAAACCTATACTATAAATCTTTAA...ATC'), id='NC_003076.8', name='NC_003076.8', description='NC_003076.8 Arabidopsis thaliana chromosome 5 sequence', dbxrefs=[])"
            ]
          },
          "metadata": {},
          "execution_count": 100
        }
      ]
    },
    {
      "cell_type": "code",
      "source": [
        "# target_record = chr22_record\n",
        "#target_record = mouse_record\n",
        "#target_record = bact_record\n",
        "target_record = arabidosis_record\n",
        "target_seq = target_record.seq.upper()"
      ],
      "metadata": {
        "id": "emh1VsD9REI4"
      },
      "execution_count": null,
      "outputs": []
    },
    {
      "cell_type": "code",
      "source": [
        "with Entrez.efetch(db=\"nucleotide\", id=\"JMSD01000001.1\", rettype=\"fasta\", retmode=\"text\") as handle:\n",
        "    target_record = SeqIO.read(handle, \"fasta\")\n",
        "target_seq = target_record.seq.upper()\n",
        "target_record"
      ],
      "metadata": {
        "colab": {
          "base_uri": "https://localhost:8080/"
        },
        "id": "025ifiOSKLI0",
        "outputId": "0af41904-03c1-4f3d-dc24-8ebf7b4012fa"
      },
      "execution_count": null,
      "outputs": [
        {
          "output_type": "execute_result",
          "data": {
            "text/plain": [
              "SeqRecord(seq=Seq('TTATAAGGGACATAGCTAATTTTCTTTTAATCAACTTTATATTAACTCTTTTAG...GTT'), id='JMSD01000001.1', name='JMSD01000001.1', description='JMSD01000001.1 Paramecium caudatum strain 43c3d scaffold_0001, whole genome shotgun sequence', dbxrefs=[])"
            ]
          },
          "metadata": {},
          "execution_count": 180
        }
      ]
    },
    {
      "cell_type": "code",
      "source": [
        "target_seq.count('N')"
      ],
      "metadata": {
        "colab": {
          "base_uri": "https://localhost:8080/"
        },
        "id": "w-S_SK5_CeJD",
        "outputId": "8a84faee-767f-4f4e-f0a8-e62adbac4cee"
      },
      "execution_count": null,
      "outputs": [
        {
          "output_type": "execute_result",
          "data": {
            "text/plain": [
              "3240"
            ]
          },
          "metadata": {},
          "execution_count": 181
        }
      ]
    },
    {
      "cell_type": "code",
      "source": [
        "len(target_seq)"
      ],
      "metadata": {
        "colab": {
          "base_uri": "https://localhost:8080/"
        },
        "id": "OBFJeFQtCi1U",
        "outputId": "09a62e82-ac77-4cc2-a5a5-772f396e34f5"
      },
      "execution_count": null,
      "outputs": [
        {
          "output_type": "execute_result",
          "data": {
            "text/plain": [
              "793585"
            ]
          },
          "metadata": {},
          "execution_count": 182
        }
      ]
    },
    {
      "cell_type": "code",
      "source": [
        "target_seq.count(\"CG\")"
      ],
      "metadata": {
        "colab": {
          "base_uri": "https://localhost:8080/"
        },
        "id": "1lZL80dp26gO",
        "outputId": "924376d3-22b5-4fd0-c362-acfdf2ef059a"
      },
      "execution_count": null,
      "outputs": [
        {
          "output_type": "execute_result",
          "data": {
            "text/plain": [
              "5465"
            ]
          },
          "metadata": {},
          "execution_count": 183
        }
      ]
    },
    {
      "cell_type": "code",
      "source": [
        "target_seq.count(\"GC\")"
      ],
      "metadata": {
        "colab": {
          "base_uri": "https://localhost:8080/"
        },
        "id": "ndDt0eWT291T",
        "outputId": "52ec7de2-8871-4adb-a236-f6425c4e1c62"
      },
      "execution_count": null,
      "outputs": [
        {
          "output_type": "execute_result",
          "data": {
            "text/plain": [
              "17498"
            ]
          },
          "metadata": {},
          "execution_count": 184
        }
      ]
    },
    {
      "cell_type": "code",
      "source": [
        "di_nt_freq_dict = di_nt_freq_in_seq(target_seq)\n",
        "di_nt_freq_dict"
      ],
      "metadata": {
        "colab": {
          "base_uri": "https://localhost:8080/"
        },
        "id": "4xYvkDIW5F9E",
        "outputId": "4bc94a8b-bb71-4a52-f635-b5d17dab8a9c"
      },
      "execution_count": null,
      "outputs": [
        {
          "output_type": "execute_result",
          "data": {
            "text/plain": [
              "{'AA': 0.10830916361798666,\n",
              " 'AC': 0.04302072003779264,\n",
              " 'AG': 0.059350383968886984,\n",
              " 'AT': 0.13933840897355612,\n",
              " 'CA': 0.06183052635048285,\n",
              " 'CC': 0.021424530063830022,\n",
              " 'CG': 0.00750497127099744,\n",
              " 'CT': 0.0558402821264955,\n",
              " 'GA': 0.06104638388099711,\n",
              " 'GC': 0.024029640860002418,\n",
              " 'GG': 0.023233138876987136,\n",
              " 'GT': 0.045694494798018084,\n",
              " 'TA': 0.11883809586588005,\n",
              " 'TC': 0.05812404557089966,\n",
              " 'TG': 0.06391516429913319,\n",
              " 'TT': 0.10850004943805412}"
            ]
          },
          "metadata": {},
          "execution_count": 185
        }
      ]
    },
    {
      "cell_type": "code",
      "source": [
        "import pandas as pd\n",
        "\n",
        "plot_df = pd.DataFrame(di_nt_freq_dict.items())\n",
        "plot_df.columns = ['di_nt', 'freq']\n",
        "plot_df['type'] = 'seq_di_nt'\n",
        "plot_df"
      ],
      "metadata": {
        "colab": {
          "base_uri": "https://localhost:8080/",
          "height": 551
        },
        "id": "w8ZgUbelLP5A",
        "outputId": "5c0f89a0-b6db-4718-e138-bd624a5c8da4"
      },
      "execution_count": null,
      "outputs": [
        {
          "output_type": "execute_result",
          "data": {
            "text/html": [
              "\n",
              "  <div id=\"df-6c3f98e4-06b2-412e-a83d-caeb3797e559\">\n",
              "    <div class=\"colab-df-container\">\n",
              "      <div>\n",
              "<style scoped>\n",
              "    .dataframe tbody tr th:only-of-type {\n",
              "        vertical-align: middle;\n",
              "    }\n",
              "\n",
              "    .dataframe tbody tr th {\n",
              "        vertical-align: top;\n",
              "    }\n",
              "\n",
              "    .dataframe thead th {\n",
              "        text-align: right;\n",
              "    }\n",
              "</style>\n",
              "<table border=\"1\" class=\"dataframe\">\n",
              "  <thead>\n",
              "    <tr style=\"text-align: right;\">\n",
              "      <th></th>\n",
              "      <th>di_nt</th>\n",
              "      <th>freq</th>\n",
              "      <th>type</th>\n",
              "    </tr>\n",
              "  </thead>\n",
              "  <tbody>\n",
              "    <tr>\n",
              "      <th>0</th>\n",
              "      <td>AA</td>\n",
              "      <td>0.108309</td>\n",
              "      <td>seq_di_nt</td>\n",
              "    </tr>\n",
              "    <tr>\n",
              "      <th>1</th>\n",
              "      <td>AC</td>\n",
              "      <td>0.043021</td>\n",
              "      <td>seq_di_nt</td>\n",
              "    </tr>\n",
              "    <tr>\n",
              "      <th>2</th>\n",
              "      <td>AG</td>\n",
              "      <td>0.059350</td>\n",
              "      <td>seq_di_nt</td>\n",
              "    </tr>\n",
              "    <tr>\n",
              "      <th>3</th>\n",
              "      <td>AT</td>\n",
              "      <td>0.139338</td>\n",
              "      <td>seq_di_nt</td>\n",
              "    </tr>\n",
              "    <tr>\n",
              "      <th>4</th>\n",
              "      <td>CA</td>\n",
              "      <td>0.061831</td>\n",
              "      <td>seq_di_nt</td>\n",
              "    </tr>\n",
              "    <tr>\n",
              "      <th>5</th>\n",
              "      <td>CC</td>\n",
              "      <td>0.021425</td>\n",
              "      <td>seq_di_nt</td>\n",
              "    </tr>\n",
              "    <tr>\n",
              "      <th>6</th>\n",
              "      <td>CG</td>\n",
              "      <td>0.007505</td>\n",
              "      <td>seq_di_nt</td>\n",
              "    </tr>\n",
              "    <tr>\n",
              "      <th>7</th>\n",
              "      <td>CT</td>\n",
              "      <td>0.055840</td>\n",
              "      <td>seq_di_nt</td>\n",
              "    </tr>\n",
              "    <tr>\n",
              "      <th>8</th>\n",
              "      <td>GA</td>\n",
              "      <td>0.061046</td>\n",
              "      <td>seq_di_nt</td>\n",
              "    </tr>\n",
              "    <tr>\n",
              "      <th>9</th>\n",
              "      <td>GC</td>\n",
              "      <td>0.024030</td>\n",
              "      <td>seq_di_nt</td>\n",
              "    </tr>\n",
              "    <tr>\n",
              "      <th>10</th>\n",
              "      <td>GG</td>\n",
              "      <td>0.023233</td>\n",
              "      <td>seq_di_nt</td>\n",
              "    </tr>\n",
              "    <tr>\n",
              "      <th>11</th>\n",
              "      <td>GT</td>\n",
              "      <td>0.045694</td>\n",
              "      <td>seq_di_nt</td>\n",
              "    </tr>\n",
              "    <tr>\n",
              "      <th>12</th>\n",
              "      <td>TA</td>\n",
              "      <td>0.118838</td>\n",
              "      <td>seq_di_nt</td>\n",
              "    </tr>\n",
              "    <tr>\n",
              "      <th>13</th>\n",
              "      <td>TC</td>\n",
              "      <td>0.058124</td>\n",
              "      <td>seq_di_nt</td>\n",
              "    </tr>\n",
              "    <tr>\n",
              "      <th>14</th>\n",
              "      <td>TG</td>\n",
              "      <td>0.063915</td>\n",
              "      <td>seq_di_nt</td>\n",
              "    </tr>\n",
              "    <tr>\n",
              "      <th>15</th>\n",
              "      <td>TT</td>\n",
              "      <td>0.108500</td>\n",
              "      <td>seq_di_nt</td>\n",
              "    </tr>\n",
              "  </tbody>\n",
              "</table>\n",
              "</div>\n",
              "      <button class=\"colab-df-convert\" onclick=\"convertToInteractive('df-6c3f98e4-06b2-412e-a83d-caeb3797e559')\"\n",
              "              title=\"Convert this dataframe to an interactive table.\"\n",
              "              style=\"display:none;\">\n",
              "        \n",
              "  <svg xmlns=\"http://www.w3.org/2000/svg\" height=\"24px\"viewBox=\"0 0 24 24\"\n",
              "       width=\"24px\">\n",
              "    <path d=\"M0 0h24v24H0V0z\" fill=\"none\"/>\n",
              "    <path d=\"M18.56 5.44l.94 2.06.94-2.06 2.06-.94-2.06-.94-.94-2.06-.94 2.06-2.06.94zm-11 1L8.5 8.5l.94-2.06 2.06-.94-2.06-.94L8.5 2.5l-.94 2.06-2.06.94zm10 10l.94 2.06.94-2.06 2.06-.94-2.06-.94-.94-2.06-.94 2.06-2.06.94z\"/><path d=\"M17.41 7.96l-1.37-1.37c-.4-.4-.92-.59-1.43-.59-.52 0-1.04.2-1.43.59L10.3 9.45l-7.72 7.72c-.78.78-.78 2.05 0 2.83L4 21.41c.39.39.9.59 1.41.59.51 0 1.02-.2 1.41-.59l7.78-7.78 2.81-2.81c.8-.78.8-2.07 0-2.86zM5.41 20L4 18.59l7.72-7.72 1.47 1.35L5.41 20z\"/>\n",
              "  </svg>\n",
              "      </button>\n",
              "      \n",
              "  <style>\n",
              "    .colab-df-container {\n",
              "      display:flex;\n",
              "      flex-wrap:wrap;\n",
              "      gap: 12px;\n",
              "    }\n",
              "\n",
              "    .colab-df-convert {\n",
              "      background-color: #E8F0FE;\n",
              "      border: none;\n",
              "      border-radius: 50%;\n",
              "      cursor: pointer;\n",
              "      display: none;\n",
              "      fill: #1967D2;\n",
              "      height: 32px;\n",
              "      padding: 0 0 0 0;\n",
              "      width: 32px;\n",
              "    }\n",
              "\n",
              "    .colab-df-convert:hover {\n",
              "      background-color: #E2EBFA;\n",
              "      box-shadow: 0px 1px 2px rgba(60, 64, 67, 0.3), 0px 1px 3px 1px rgba(60, 64, 67, 0.15);\n",
              "      fill: #174EA6;\n",
              "    }\n",
              "\n",
              "    [theme=dark] .colab-df-convert {\n",
              "      background-color: #3B4455;\n",
              "      fill: #D2E3FC;\n",
              "    }\n",
              "\n",
              "    [theme=dark] .colab-df-convert:hover {\n",
              "      background-color: #434B5C;\n",
              "      box-shadow: 0px 1px 3px 1px rgba(0, 0, 0, 0.15);\n",
              "      filter: drop-shadow(0px 1px 2px rgba(0, 0, 0, 0.3));\n",
              "      fill: #FFFFFF;\n",
              "    }\n",
              "  </style>\n",
              "\n",
              "      <script>\n",
              "        const buttonEl =\n",
              "          document.querySelector('#df-6c3f98e4-06b2-412e-a83d-caeb3797e559 button.colab-df-convert');\n",
              "        buttonEl.style.display =\n",
              "          google.colab.kernel.accessAllowed ? 'block' : 'none';\n",
              "\n",
              "        async function convertToInteractive(key) {\n",
              "          const element = document.querySelector('#df-6c3f98e4-06b2-412e-a83d-caeb3797e559');\n",
              "          const dataTable =\n",
              "            await google.colab.kernel.invokeFunction('convertToInteractive',\n",
              "                                                     [key], {});\n",
              "          if (!dataTable) return;\n",
              "\n",
              "          const docLinkHtml = 'Like what you see? Visit the ' +\n",
              "            '<a target=\"_blank\" href=https://colab.research.google.com/notebooks/data_table.ipynb>data table notebook</a>'\n",
              "            + ' to learn more about interactive tables.';\n",
              "          element.innerHTML = '';\n",
              "          dataTable['output_type'] = 'display_data';\n",
              "          await google.colab.output.renderOutput(dataTable, element);\n",
              "          const docLink = document.createElement('div');\n",
              "          docLink.innerHTML = docLinkHtml;\n",
              "          element.appendChild(docLink);\n",
              "        }\n",
              "      </script>\n",
              "    </div>\n",
              "  </div>\n",
              "  "
            ],
            "text/plain": [
              "   di_nt      freq       type\n",
              "0     AA  0.108309  seq_di_nt\n",
              "1     AC  0.043021  seq_di_nt\n",
              "2     AG  0.059350  seq_di_nt\n",
              "3     AT  0.139338  seq_di_nt\n",
              "4     CA  0.061831  seq_di_nt\n",
              "5     CC  0.021425  seq_di_nt\n",
              "6     CG  0.007505  seq_di_nt\n",
              "7     CT  0.055840  seq_di_nt\n",
              "8     GA  0.061046  seq_di_nt\n",
              "9     GC  0.024030  seq_di_nt\n",
              "10    GG  0.023233  seq_di_nt\n",
              "11    GT  0.045694  seq_di_nt\n",
              "12    TA  0.118838  seq_di_nt\n",
              "13    TC  0.058124  seq_di_nt\n",
              "14    TG  0.063915  seq_di_nt\n",
              "15    TT  0.108500  seq_di_nt"
            ]
          },
          "metadata": {},
          "execution_count": 186
        }
      ]
    },
    {
      "cell_type": "code",
      "source": [
        "import seaborn as sns\n",
        "\n",
        "valor_plot = sns.barplot(\n",
        "    data= plot_df,\n",
        "    x= 'di_nt',\n",
        "    y= 'freq',\n",
        "    hue='type')"
      ],
      "metadata": {
        "colab": {
          "base_uri": "https://localhost:8080/",
          "height": 517
        },
        "id": "KPhP5SFwL7s1",
        "outputId": "2da912f9-218b-4bf2-b0d8-b6f413a70960"
      },
      "execution_count": null,
      "outputs": [
        {
          "output_type": "display_data",
          "data": {
            "image/png": "[encoded data removed]",
            "text/plain": [
              "<Figure size 842.4x595.44 with 1 Axes>"
            ]
          },
          "metadata": {}
        }
      ]
    },
    {
      "cell_type": "markdown",
      "source": [
        "##Вычисляем ожидаемые частоты ди-нуклеотидов"
      ],
      "metadata": {
        "id": "OyHgRqtpOwhx"
      }
    },
    {
      "cell_type": "code",
      "source": [
        "mono_nt_freqs = mono_nt_freq_in_seq(target_seq)\n",
        "mono_nt_freqs"
      ],
      "metadata": {
        "colab": {
          "base_uri": "https://localhost:8080/"
        },
        "id": "G-2YPdmFQoLo",
        "outputId": "097c92d8-d8de-45e4-a908-5891db65d400"
      },
      "execution_count": null,
      "outputs": [
        {
          "output_type": "execute_result",
          "data": {
            "text/plain": [
              "{'A': 0.35901663197717454,\n",
              " 'C': 0.1376563399528054,\n",
              " 'G': 0.14480891256350076,\n",
              " 'T': 0.3585181155065193}"
            ]
          },
          "metadata": {},
          "execution_count": 188
        }
      ]
    },
    {
      "cell_type": "code",
      "source": [
        "expected_di_nt_freqs = init_di_nt_dict()\n",
        "expected_di_nt_freqs"
      ],
      "metadata": {
        "colab": {
          "base_uri": "https://localhost:8080/"
        },
        "id": "buOf3r6ARxYy",
        "outputId": "169ec183-ac44-4ba2-c982-9685cc892f01"
      },
      "execution_count": null,
      "outputs": [
        {
          "output_type": "execute_result",
          "data": {
            "text/plain": [
              "{'AA': 0,\n",
              " 'AC': 0,\n",
              " 'AG': 0,\n",
              " 'AT': 0,\n",
              " 'CA': 0,\n",
              " 'CC': 0,\n",
              " 'CG': 0,\n",
              " 'CT': 0,\n",
              " 'GA': 0,\n",
              " 'GC': 0,\n",
              " 'GG': 0,\n",
              " 'GT': 0,\n",
              " 'TA': 0,\n",
              " 'TC': 0,\n",
              " 'TG': 0,\n",
              " 'TT': 0}"
            ]
          },
          "metadata": {},
          "execution_count": 189
        }
      ]
    },
    {
      "cell_type": "code",
      "source": [
        "for k in expected_di_nt_freqs.keys():\n",
        "  freq1 = mono_nt_freqs[k[0]]\n",
        "  freq2 = mono_nt_freqs[k[1]]\n",
        "  expected_di_nt_freqs[k] = freq1*freq2\n",
        "  #print('%s = %s * %s' % (k, freq1, freq2))\n",
        "expected_di_nt_freqs"
      ],
      "metadata": {
        "colab": {
          "base_uri": "https://localhost:8080/"
        },
        "id": "9P9lyYZzR4BP",
        "outputId": "ac35fcd7-d00c-492a-877d-f44fbd1d91f2"
      },
      "execution_count": null,
      "outputs": [
        {
          "output_type": "execute_result",
          "data": {
            "text/plain": [
              "{'AA': 0.12889294203623397,\n",
              " 'AC': 0.04942091554016117,\n",
              " 'AG': 0.0519888080688252,\n",
              " 'AT': 0.1287139663319542,\n",
              " 'CA': 0.04942091554016117,\n",
              " 'CC': 0.01894926792920233,\n",
              " 'CG': 0.019933864896037334,\n",
              " 'CT': 0.049352291587404576,\n",
              " 'GA': 0.0519888080688252,\n",
              " 'GC': 0.019933864896037334,\n",
              " 'GG': 0.02096962115782361,\n",
              " 'GT': 0.05191661844081462,\n",
              " 'TA': 0.1287139663319542,\n",
              " 'TC': 0.049352291587404576,\n",
              " 'TG': 0.05191661844081462,\n",
              " 'TT': 0.1285352391463459}"
            ]
          },
          "metadata": {},
          "execution_count": 190
        }
      ]
    },
    {
      "cell_type": "code",
      "source": [
        "expected_df = pd.DataFrame(expected_di_nt_freqs.items())\n",
        "expected_df.columns = ['di_nt', 'freq']\n",
        "expected_df['type'] = 'expected'\n",
        "expected_df"
      ],
      "metadata": {
        "colab": {
          "base_uri": "https://localhost:8080/",
          "height": 551
        },
        "id": "_NXLhDSASrxK",
        "outputId": "d360e232-753c-4bfe-99ad-198dd3c6ba82"
      },
      "execution_count": null,
      "outputs": [
        {
          "output_type": "execute_result",
          "data": {
            "text/html": [
              "\n",
              "  <div id=\"df-18a74e10-a1c4-418e-8aed-ad9385d2d837\">\n",
              "    <div class=\"colab-df-container\">\n",
              "      <div>\n",
              "<style scoped>\n",
              "    .dataframe tbody tr th:only-of-type {\n",
              "        vertical-align: middle;\n",
              "    }\n",
              "\n",
              "    .dataframe tbody tr th {\n",
              "        vertical-align: top;\n",
              "    }\n",
              "\n",
              "    .dataframe thead th {\n",
              "        text-align: right;\n",
              "    }\n",
              "</style>\n",
              "<table border=\"1\" class=\"dataframe\">\n",
              "  <thead>\n",
              "    <tr style=\"text-align: right;\">\n",
              "      <th></th>\n",
              "      <th>di_nt</th>\n",
              "      <th>freq</th>\n",
              "      <th>type</th>\n",
              "    </tr>\n",
              "  </thead>\n",
              "  <tbody>\n",
              "    <tr>\n",
              "      <th>0</th>\n",
              "      <td>AA</td>\n",
              "      <td>0.128893</td>\n",
              "      <td>expected</td>\n",
              "    </tr>\n",
              "    <tr>\n",
              "      <th>1</th>\n",
              "      <td>AC</td>\n",
              "      <td>0.049421</td>\n",
              "      <td>expected</td>\n",
              "    </tr>\n",
              "    <tr>\n",
              "      <th>2</th>\n",
              "      <td>AG</td>\n",
              "      <td>0.051989</td>\n",
              "      <td>expected</td>\n",
              "    </tr>\n",
              "    <tr>\n",
              "      <th>3</th>\n",
              "      <td>AT</td>\n",
              "      <td>0.128714</td>\n",
              "      <td>expected</td>\n",
              "    </tr>\n",
              "    <tr>\n",
              "      <th>4</th>\n",
              "      <td>CA</td>\n",
              "      <td>0.049421</td>\n",
              "      <td>expected</td>\n",
              "    </tr>\n",
              "    <tr>\n",
              "      <th>5</th>\n",
              "      <td>CC</td>\n",
              "      <td>0.018949</td>\n",
              "      <td>expected</td>\n",
              "    </tr>\n",
              "    <tr>\n",
              "      <th>6</th>\n",
              "      <td>CG</td>\n",
              "      <td>0.019934</td>\n",
              "      <td>expected</td>\n",
              "    </tr>\n",
              "    <tr>\n",
              "      <th>7</th>\n",
              "      <td>CT</td>\n",
              "      <td>0.049352</td>\n",
              "      <td>expected</td>\n",
              "    </tr>\n",
              "    <tr>\n",
              "      <th>8</th>\n",
              "      <td>GA</td>\n",
              "      <td>0.051989</td>\n",
              "      <td>expected</td>\n",
              "    </tr>\n",
              "    <tr>\n",
              "      <th>9</th>\n",
              "      <td>GC</td>\n",
              "      <td>0.019934</td>\n",
              "      <td>expected</td>\n",
              "    </tr>\n",
              "    <tr>\n",
              "      <th>10</th>\n",
              "      <td>GG</td>\n",
              "      <td>0.020970</td>\n",
              "      <td>expected</td>\n",
              "    </tr>\n",
              "    <tr>\n",
              "      <th>11</th>\n",
              "      <td>GT</td>\n",
              "      <td>0.051917</td>\n",
              "      <td>expected</td>\n",
              "    </tr>\n",
              "    <tr>\n",
              "      <th>12</th>\n",
              "      <td>TA</td>\n",
              "      <td>0.128714</td>\n",
              "      <td>expected</td>\n",
              "    </tr>\n",
              "    <tr>\n",
              "      <th>13</th>\n",
              "      <td>TC</td>\n",
              "      <td>0.049352</td>\n",
              "      <td>expected</td>\n",
              "    </tr>\n",
              "    <tr>\n",
              "      <th>14</th>\n",
              "      <td>TG</td>\n",
              "      <td>0.051917</td>\n",
              "      <td>expected</td>\n",
              "    </tr>\n",
              "    <tr>\n",
              "      <th>15</th>\n",
              "      <td>TT</td>\n",
              "      <td>0.128535</td>\n",
              "      <td>expected</td>\n",
              "    </tr>\n",
              "  </tbody>\n",
              "</table>\n",
              "</div>\n",
              "      <button class=\"colab-df-convert\" onclick=\"convertToInteractive('df-18a74e10-a1c4-418e-8aed-ad9385d2d837')\"\n",
              "              title=\"Convert this dataframe to an interactive table.\"\n",
              "              style=\"display:none;\">\n",
              "        \n",
              "  <svg xmlns=\"http://www.w3.org/2000/svg\" height=\"24px\"viewBox=\"0 0 24 24\"\n",
              "       width=\"24px\">\n",
              "    <path d=\"M0 0h24v24H0V0z\" fill=\"none\"/>\n",
              "    <path d=\"M18.56 5.44l.94 2.06.94-2.06 2.06-.94-2.06-.94-.94-2.06-.94 2.06-2.06.94zm-11 1L8.5 8.5l.94-2.06 2.06-.94-2.06-.94L8.5 2.5l-.94 2.06-2.06.94zm10 10l.94 2.06.94-2.06 2.06-.94-2.06-.94-.94-2.06-.94 2.06-2.06.94z\"/><path d=\"M17.41 7.96l-1.37-1.37c-.4-.4-.92-.59-1.43-.59-.52 0-1.04.2-1.43.59L10.3 9.45l-7.72 7.72c-.78.78-.78 2.05 0 2.83L4 21.41c.39.39.9.59 1.41.59.51 0 1.02-.2 1.41-.59l7.78-7.78 2.81-2.81c.8-.78.8-2.07 0-2.86zM5.41 20L4 18.59l7.72-7.72 1.47 1.35L5.41 20z\"/>\n",
              "  </svg>\n",
              "      </button>\n",
              "      \n",
              "  <style>\n",
              "    .colab-df-container {\n",
              "      display:flex;\n",
              "      flex-wrap:wrap;\n",
              "      gap: 12px;\n",
              "    }\n",
              "\n",
              "    .colab-df-convert {\n",
              "      background-color: #E8F0FE;\n",
              "      border: none;\n",
              "      border-radius: 50%;\n",
              "      cursor: pointer;\n",
              "      display: none;\n",
              "      fill: #1967D2;\n",
              "      height: 32px;\n",
              "      padding: 0 0 0 0;\n",
              "      width: 32px;\n",
              "    }\n",
              "\n",
              "    .colab-df-convert:hover {\n",
              "      background-color: #E2EBFA;\n",
              "      box-shadow: 0px 1px 2px rgba(60, 64, 67, 0.3), 0px 1px 3px 1px rgba(60, 64, 67, 0.15);\n",
              "      fill: #174EA6;\n",
              "    }\n",
              "\n",
              "    [theme=dark] .colab-df-convert {\n",
              "      background-color: #3B4455;\n",
              "      fill: #D2E3FC;\n",
              "    }\n",
              "\n",
              "    [theme=dark] .colab-df-convert:hover {\n",
              "      background-color: #434B5C;\n",
              "      box-shadow: 0px 1px 3px 1px rgba(0, 0, 0, 0.15);\n",
              "      filter: drop-shadow(0px 1px 2px rgba(0, 0, 0, 0.3));\n",
              "      fill: #FFFFFF;\n",
              "    }\n",
              "  </style>\n",
              "\n",
              "      <script>\n",
              "        const buttonEl =\n",
              "          document.querySelector('#df-18a74e10-a1c4-418e-8aed-ad9385d2d837 button.colab-df-convert');\n",
              "        buttonEl.style.display =\n",
              "          google.colab.kernel.accessAllowed ? 'block' : 'none';\n",
              "\n",
              "        async function convertToInteractive(key) {\n",
              "          const element = document.querySelector('#df-18a74e10-a1c4-418e-8aed-ad9385d2d837');\n",
              "          const dataTable =\n",
              "            await google.colab.kernel.invokeFunction('convertToInteractive',\n",
              "                                                     [key], {});\n",
              "          if (!dataTable) return;\n",
              "\n",
              "          const docLinkHtml = 'Like what you see? Visit the ' +\n",
              "            '<a target=\"_blank\" href=https://colab.research.google.com/notebooks/data_table.ipynb>data table notebook</a>'\n",
              "            + ' to learn more about interactive tables.';\n",
              "          element.innerHTML = '';\n",
              "          dataTable['output_type'] = 'display_data';\n",
              "          await google.colab.output.renderOutput(dataTable, element);\n",
              "          const docLink = document.createElement('div');\n",
              "          docLink.innerHTML = docLinkHtml;\n",
              "          element.appendChild(docLink);\n",
              "        }\n",
              "      </script>\n",
              "    </div>\n",
              "  </div>\n",
              "  "
            ],
            "text/plain": [
              "   di_nt      freq      type\n",
              "0     AA  0.128893  expected\n",
              "1     AC  0.049421  expected\n",
              "2     AG  0.051989  expected\n",
              "3     AT  0.128714  expected\n",
              "4     CA  0.049421  expected\n",
              "5     CC  0.018949  expected\n",
              "6     CG  0.019934  expected\n",
              "7     CT  0.049352  expected\n",
              "8     GA  0.051989  expected\n",
              "9     GC  0.019934  expected\n",
              "10    GG  0.020970  expected\n",
              "11    GT  0.051917  expected\n",
              "12    TA  0.128714  expected\n",
              "13    TC  0.049352  expected\n",
              "14    TG  0.051917  expected\n",
              "15    TT  0.128535  expected"
            ]
          },
          "metadata": {},
          "execution_count": 191
        }
      ]
    },
    {
      "cell_type": "code",
      "source": [
        "# Fig size: https://stackoverflow.com/a/47955814/310453\n",
        "sns.set(rc={'figure.figsize':(11.7,8.27)})\n",
        "\n",
        "sns.barplot(\n",
        "    data= pd.concat([plot_df, expected_df]),\n",
        "    x= 'di_nt',\n",
        "    y= 'freq',\n",
        "    hue='type'\n",
        ").set_title(target_record.description)"
      ],
      "metadata": {
        "colab": {
          "base_uri": "https://localhost:8080/",
          "height": 550
        },
        "id": "IedelTD3Ty2G",
        "outputId": "610b8cff-aa84-49f0-e1ac-8a252a34a939"
      },
      "execution_count": null,
      "outputs": [
        {
          "output_type": "execute_result",
          "data": {
            "text/plain": [
              "Text(0.5, 1.0, 'JMSD01000001.1 Paramecium caudatum strain 43c3d scaffold_0001, whole genome shotgun sequence')"
            ]
          },
          "metadata": {},
          "execution_count": 192
        },
        {
          "output_type": "display_data",
          "data": {
            "image/png": "[encoded data removed]",
            "text/plain": [
              "<Figure size 842.4x595.44 with 1 Axes>"
            ]
          },
          "metadata": {}
        }
      ]
    },
    {
      "cell_type": "markdown",
      "source": [
        "Вычисляем ожидаемые частоты ди-нуклеотидов"
      ],
      "metadata": {
        "id": "mxIDCsv6E-dg"
      }
    },
    {
      "cell_type": "code",
      "source": [
        "mono_nt_freqs = mono_nt_freq_in_seq(target_seq)\n",
        "mono_nt_freqs"
      ],
      "metadata": {
        "colab": {
          "base_uri": "https://localhost:8080/"
        },
        "outputId": "931d34e4-ebcd-400f-960a-c53dda76655e",
        "id": "4VkGQ5M_E-dx"
      },
      "execution_count": null,
      "outputs": [
        {
          "output_type": "execute_result",
          "data": {
            "text/plain": [
              "{'A': 0.35901663197717454,\n",
              " 'C': 0.1376563399528054,\n",
              " 'G': 0.14480891256350076,\n",
              " 'T': 0.3585181155065193}"
            ]
          },
          "metadata": {},
          "execution_count": 193
        }
      ]
    },
    {
      "cell_type": "code",
      "source": [
        "expected_di_nt_freqs = init_di_nt_dict()\n",
        "expected_di_nt_freqs"
      ],
      "metadata": {
        "colab": {
          "base_uri": "https://localhost:8080/"
        },
        "outputId": "60cb0a64-7e2b-4b0c-cc49-30e7cfb67f37",
        "id": "-5348ygYE-dy"
      },
      "execution_count": null,
      "outputs": [
        {
          "output_type": "execute_result",
          "data": {
            "text/plain": [
              "{'AA': 0,\n",
              " 'AC': 0,\n",
              " 'AG': 0,\n",
              " 'AT': 0,\n",
              " 'CA': 0,\n",
              " 'CC': 0,\n",
              " 'CG': 0,\n",
              " 'CT': 0,\n",
              " 'GA': 0,\n",
              " 'GC': 0,\n",
              " 'GG': 0,\n",
              " 'GT': 0,\n",
              " 'TA': 0,\n",
              " 'TC': 0,\n",
              " 'TG': 0,\n",
              " 'TT': 0}"
            ]
          },
          "metadata": {},
          "execution_count": 194
        }
      ]
    },
    {
      "cell_type": "code",
      "source": [
        "for k in expected_di_nt_freqs.keys():\n",
        "  freq1 = mono_nt_freqs[k[0]]\n",
        "  freq2 = mono_nt_freqs[k[1]]\n",
        "  expected_di_nt_freqs[k] = freq1*freq2\n",
        "  #print('%s = %s * %s' % (k, freq1, freq2))\n",
        "expected_di_nt_freqs"
      ],
      "metadata": {
        "colab": {
          "base_uri": "https://localhost:8080/"
        },
        "outputId": "54e965b3-d117-4294-de55-27f2a533a60e",
        "id": "D9TODKROE-dy"
      },
      "execution_count": null,
      "outputs": [
        {
          "output_type": "execute_result",
          "data": {
            "text/plain": [
              "{'AA': 0.12889294203623397,\n",
              " 'AC': 0.04942091554016117,\n",
              " 'AG': 0.0519888080688252,\n",
              " 'AT': 0.1287139663319542,\n",
              " 'CA': 0.04942091554016117,\n",
              " 'CC': 0.01894926792920233,\n",
              " 'CG': 0.019933864896037334,\n",
              " 'CT': 0.049352291587404576,\n",
              " 'GA': 0.0519888080688252,\n",
              " 'GC': 0.019933864896037334,\n",
              " 'GG': 0.02096962115782361,\n",
              " 'GT': 0.05191661844081462,\n",
              " 'TA': 0.1287139663319542,\n",
              " 'TC': 0.049352291587404576,\n",
              " 'TG': 0.05191661844081462,\n",
              " 'TT': 0.1285352391463459}"
            ]
          },
          "metadata": {},
          "execution_count": 195
        }
      ]
    },
    {
      "cell_type": "code",
      "source": [
        "expected_df = pd.DataFrame(expected_di_nt_freqs.items())\n",
        "expected_df.columns = ['di_nt', 'freq']\n",
        "expected_df['type'] = 'expected'\n",
        "expected_df"
      ],
      "metadata": {
        "colab": {
          "base_uri": "https://localhost:8080/",
          "height": 551
        },
        "outputId": "f07d2bc4-3e57-45fb-beab-59fbc930ce99",
        "id": "WiLduTxyE-dy"
      },
      "execution_count": null,
      "outputs": [
        {
          "output_type": "execute_result",
          "data": {
            "text/html": [
              "\n",
              "  <div id=\"df-c4f02742-084e-4c13-97bd-d45b5142bba8\">\n",
              "    <div class=\"colab-df-container\">\n",
              "      <div>\n",
              "<style scoped>\n",
              "    .dataframe tbody tr th:only-of-type {\n",
              "        vertical-align: middle;\n",
              "    }\n",
              "\n",
              "    .dataframe tbody tr th {\n",
              "        vertical-align: top;\n",
              "    }\n",
              "\n",
              "    .dataframe thead th {\n",
              "        text-align: right;\n",
              "    }\n",
              "</style>\n",
              "<table border=\"1\" class=\"dataframe\">\n",
              "  <thead>\n",
              "    <tr style=\"text-align: right;\">\n",
              "      <th></th>\n",
              "      <th>di_nt</th>\n",
              "      <th>freq</th>\n",
              "      <th>type</th>\n",
              "    </tr>\n",
              "  </thead>\n",
              "  <tbody>\n",
              "    <tr>\n",
              "      <th>0</th>\n",
              "      <td>AA</td>\n",
              "      <td>0.128893</td>\n",
              "      <td>expected</td>\n",
              "    </tr>\n",
              "    <tr>\n",
              "      <th>1</th>\n",
              "      <td>AC</td>\n",
              "      <td>0.049421</td>\n",
              "      <td>expected</td>\n",
              "    </tr>\n",
              "    <tr>\n",
              "      <th>2</th>\n",
              "      <td>AG</td>\n",
              "      <td>0.051989</td>\n",
              "      <td>expected</td>\n",
              "    </tr>\n",
              "    <tr>\n",
              "      <th>3</th>\n",
              "      <td>AT</td>\n",
              "      <td>0.128714</td>\n",
              "      <td>expected</td>\n",
              "    </tr>\n",
              "    <tr>\n",
              "      <th>4</th>\n",
              "      <td>CA</td>\n",
              "      <td>0.049421</td>\n",
              "      <td>expected</td>\n",
              "    </tr>\n",
              "    <tr>\n",
              "      <th>5</th>\n",
              "      <td>CC</td>\n",
              "      <td>0.018949</td>\n",
              "      <td>expected</td>\n",
              "    </tr>\n",
              "    <tr>\n",
              "      <th>6</th>\n",
              "      <td>CG</td>\n",
              "      <td>0.019934</td>\n",
              "      <td>expected</td>\n",
              "    </tr>\n",
              "    <tr>\n",
              "      <th>7</th>\n",
              "      <td>CT</td>\n",
              "      <td>0.049352</td>\n",
              "      <td>expected</td>\n",
              "    </tr>\n",
              "    <tr>\n",
              "      <th>8</th>\n",
              "      <td>GA</td>\n",
              "      <td>0.051989</td>\n",
              "      <td>expected</td>\n",
              "    </tr>\n",
              "    <tr>\n",
              "      <th>9</th>\n",
              "      <td>GC</td>\n",
              "      <td>0.019934</td>\n",
              "      <td>expected</td>\n",
              "    </tr>\n",
              "    <tr>\n",
              "      <th>10</th>\n",
              "      <td>GG</td>\n",
              "      <td>0.020970</td>\n",
              "      <td>expected</td>\n",
              "    </tr>\n",
              "    <tr>\n",
              "      <th>11</th>\n",
              "      <td>GT</td>\n",
              "      <td>0.051917</td>\n",
              "      <td>expected</td>\n",
              "    </tr>\n",
              "    <tr>\n",
              "      <th>12</th>\n",
              "      <td>TA</td>\n",
              "      <td>0.128714</td>\n",
              "      <td>expected</td>\n",
              "    </tr>\n",
              "    <tr>\n",
              "      <th>13</th>\n",
              "      <td>TC</td>\n",
              "      <td>0.049352</td>\n",
              "      <td>expected</td>\n",
              "    </tr>\n",
              "    <tr>\n",
              "      <th>14</th>\n",
              "      <td>TG</td>\n",
              "      <td>0.051917</td>\n",
              "      <td>expected</td>\n",
              "    </tr>\n",
              "    <tr>\n",
              "      <th>15</th>\n",
              "      <td>TT</td>\n",
              "      <td>0.128535</td>\n",
              "      <td>expected</td>\n",
              "    </tr>\n",
              "  </tbody>\n",
              "</table>\n",
              "</div>\n",
              "      <button class=\"colab-df-convert\" onclick=\"convertToInteractive('df-c4f02742-084e-4c13-97bd-d45b5142bba8')\"\n",
              "              title=\"Convert this dataframe to an interactive table.\"\n",
              "              style=\"display:none;\">\n",
              "        \n",
              "  <svg xmlns=\"http://www.w3.org/2000/svg\" height=\"24px\"viewBox=\"0 0 24 24\"\n",
              "       width=\"24px\">\n",
              "    <path d=\"M0 0h24v24H0V0z\" fill=\"none\"/>\n",
              "    <path d=\"M18.56 5.44l.94 2.06.94-2.06 2.06-.94-2.06-.94-.94-2.06-.94 2.06-2.06.94zm-11 1L8.5 8.5l.94-2.06 2.06-.94-2.06-.94L8.5 2.5l-.94 2.06-2.06.94zm10 10l.94 2.06.94-2.06 2.06-.94-2.06-.94-.94-2.06-.94 2.06-2.06.94z\"/><path d=\"M17.41 7.96l-1.37-1.37c-.4-.4-.92-.59-1.43-.59-.52 0-1.04.2-1.43.59L10.3 9.45l-7.72 7.72c-.78.78-.78 2.05 0 2.83L4 21.41c.39.39.9.59 1.41.59.51 0 1.02-.2 1.41-.59l7.78-7.78 2.81-2.81c.8-.78.8-2.07 0-2.86zM5.41 20L4 18.59l7.72-7.72 1.47 1.35L5.41 20z\"/>\n",
              "  </svg>\n",
              "      </button>\n",
              "      \n",
              "  <style>\n",
              "    .colab-df-container {\n",
              "      display:flex;\n",
              "      flex-wrap:wrap;\n",
              "      gap: 12px;\n",
              "    }\n",
              "\n",
              "    .colab-df-convert {\n",
              "      background-color: #E8F0FE;\n",
              "      border: none;\n",
              "      border-radius: 50%;\n",
              "      cursor: pointer;\n",
              "      display: none;\n",
              "      fill: #1967D2;\n",
              "      height: 32px;\n",
              "      padding: 0 0 0 0;\n",
              "      width: 32px;\n",
              "    }\n",
              "\n",
              "    .colab-df-convert:hover {\n",
              "      background-color: #E2EBFA;\n",
              "      box-shadow: 0px 1px 2px rgba(60, 64, 67, 0.3), 0px 1px 3px 1px rgba(60, 64, 67, 0.15);\n",
              "      fill: #174EA6;\n",
              "    }\n",
              "\n",
              "    [theme=dark] .colab-df-convert {\n",
              "      background-color: #3B4455;\n",
              "      fill: #D2E3FC;\n",
              "    }\n",
              "\n",
              "    [theme=dark] .colab-df-convert:hover {\n",
              "      background-color: #434B5C;\n",
              "      box-shadow: 0px 1px 3px 1px rgba(0, 0, 0, 0.15);\n",
              "      filter: drop-shadow(0px 1px 2px rgba(0, 0, 0, 0.3));\n",
              "      fill: #FFFFFF;\n",
              "    }\n",
              "  </style>\n",
              "\n",
              "      <script>\n",
              "        const buttonEl =\n",
              "          document.querySelector('#df-c4f02742-084e-4c13-97bd-d45b5142bba8 button.colab-df-convert');\n",
              "        buttonEl.style.display =\n",
              "          google.colab.kernel.accessAllowed ? 'block' : 'none';\n",
              "\n",
              "        async function convertToInteractive(key) {\n",
              "          const element = document.querySelector('#df-c4f02742-084e-4c13-97bd-d45b5142bba8');\n",
              "          const dataTable =\n",
              "            await google.colab.kernel.invokeFunction('convertToInteractive',\n",
              "                                                     [key], {});\n",
              "          if (!dataTable) return;\n",
              "\n",
              "          const docLinkHtml = 'Like what you see? Visit the ' +\n",
              "            '<a target=\"_blank\" href=https://colab.research.google.com/notebooks/data_table.ipynb>data table notebook</a>'\n",
              "            + ' to learn more about interactive tables.';\n",
              "          element.innerHTML = '';\n",
              "          dataTable['output_type'] = 'display_data';\n",
              "          await google.colab.output.renderOutput(dataTable, element);\n",
              "          const docLink = document.createElement('div');\n",
              "          docLink.innerHTML = docLinkHtml;\n",
              "          element.appendChild(docLink);\n",
              "        }\n",
              "      </script>\n",
              "    </div>\n",
              "  </div>\n",
              "  "
            ],
            "text/plain": [
              "   di_nt      freq      type\n",
              "0     AA  0.128893  expected\n",
              "1     AC  0.049421  expected\n",
              "2     AG  0.051989  expected\n",
              "3     AT  0.128714  expected\n",
              "4     CA  0.049421  expected\n",
              "5     CC  0.018949  expected\n",
              "6     CG  0.019934  expected\n",
              "7     CT  0.049352  expected\n",
              "8     GA  0.051989  expected\n",
              "9     GC  0.019934  expected\n",
              "10    GG  0.020970  expected\n",
              "11    GT  0.051917  expected\n",
              "12    TA  0.128714  expected\n",
              "13    TC  0.049352  expected\n",
              "14    TG  0.051917  expected\n",
              "15    TT  0.128535  expected"
            ]
          },
          "metadata": {},
          "execution_count": 196
        }
      ]
    },
    {
      "cell_type": "code",
      "source": [
        "pd.concat([plot_df, expected_df]).head()"
      ],
      "metadata": {
        "colab": {
          "base_uri": "https://localhost:8080/",
          "height": 206
        },
        "id": "SxNH0nT9TlCj",
        "outputId": "365701a1-4f20-4aef-c437-a1de39df5f7a"
      },
      "execution_count": null,
      "outputs": [
        {
          "output_type": "execute_result",
          "data": {
            "text/html": [
              "\n",
              "  <div id=\"df-cdad4359-d4e6-4ec7-93de-416790a77df0\">\n",
              "    <div class=\"colab-df-container\">\n",
              "      <div>\n",
              "<style scoped>\n",
              "    .dataframe tbody tr th:only-of-type {\n",
              "        vertical-align: middle;\n",
              "    }\n",
              "\n",
              "    .dataframe tbody tr th {\n",
              "        vertical-align: top;\n",
              "    }\n",
              "\n",
              "    .dataframe thead th {\n",
              "        text-align: right;\n",
              "    }\n",
              "</style>\n",
              "<table border=\"1\" class=\"dataframe\">\n",
              "  <thead>\n",
              "    <tr style=\"text-align: right;\">\n",
              "      <th></th>\n",
              "      <th>di_nt</th>\n",
              "      <th>freq</th>\n",
              "      <th>type</th>\n",
              "    </tr>\n",
              "  </thead>\n",
              "  <tbody>\n",
              "    <tr>\n",
              "      <th>0</th>\n",
              "      <td>AA</td>\n",
              "      <td>0.108309</td>\n",
              "      <td>seq_di_nt</td>\n",
              "    </tr>\n",
              "    <tr>\n",
              "      <th>1</th>\n",
              "      <td>AC</td>\n",
              "      <td>0.043021</td>\n",
              "      <td>seq_di_nt</td>\n",
              "    </tr>\n",
              "    <tr>\n",
              "      <th>2</th>\n",
              "      <td>AG</td>\n",
              "      <td>0.059350</td>\n",
              "      <td>seq_di_nt</td>\n",
              "    </tr>\n",
              "    <tr>\n",
              "      <th>3</th>\n",
              "      <td>AT</td>\n",
              "      <td>0.139338</td>\n",
              "      <td>seq_di_nt</td>\n",
              "    </tr>\n",
              "    <tr>\n",
              "      <th>4</th>\n",
              "      <td>CA</td>\n",
              "      <td>0.061831</td>\n",
              "      <td>seq_di_nt</td>\n",
              "    </tr>\n",
              "  </tbody>\n",
              "</table>\n",
              "</div>\n",
              "      <button class=\"colab-df-convert\" onclick=\"convertToInteractive('df-cdad4359-d4e6-4ec7-93de-416790a77df0')\"\n",
              "              title=\"Convert this dataframe to an interactive table.\"\n",
              "              style=\"display:none;\">\n",
              "        \n",
              "  <svg xmlns=\"http://www.w3.org/2000/svg\" height=\"24px\"viewBox=\"0 0 24 24\"\n",
              "       width=\"24px\">\n",
              "    <path d=\"M0 0h24v24H0V0z\" fill=\"none\"/>\n",
              "    <path d=\"M18.56 5.44l.94 2.06.94-2.06 2.06-.94-2.06-.94-.94-2.06-.94 2.06-2.06.94zm-11 1L8.5 8.5l.94-2.06 2.06-.94-2.06-.94L8.5 2.5l-.94 2.06-2.06.94zm10 10l.94 2.06.94-2.06 2.06-.94-2.06-.94-.94-2.06-.94 2.06-2.06.94z\"/><path d=\"M17.41 7.96l-1.37-1.37c-.4-.4-.92-.59-1.43-.59-.52 0-1.04.2-1.43.59L10.3 9.45l-7.72 7.72c-.78.78-.78 2.05 0 2.83L4 21.41c.39.39.9.59 1.41.59.51 0 1.02-.2 1.41-.59l7.78-7.78 2.81-2.81c.8-.78.8-2.07 0-2.86zM5.41 20L4 18.59l7.72-7.72 1.47 1.35L5.41 20z\"/>\n",
              "  </svg>\n",
              "      </button>\n",
              "      \n",
              "  <style>\n",
              "    .colab-df-container {\n",
              "      display:flex;\n",
              "      flex-wrap:wrap;\n",
              "      gap: 12px;\n",
              "    }\n",
              "\n",
              "    .colab-df-convert {\n",
              "      background-color: #E8F0FE;\n",
              "      border: none;\n",
              "      border-radius: 50%;\n",
              "      cursor: pointer;\n",
              "      display: none;\n",
              "      fill: #1967D2;\n",
              "      height: 32px;\n",
              "      padding: 0 0 0 0;\n",
              "      width: 32px;\n",
              "    }\n",
              "\n",
              "    .colab-df-convert:hover {\n",
              "      background-color: #E2EBFA;\n",
              "      box-shadow: 0px 1px 2px rgba(60, 64, 67, 0.3), 0px 1px 3px 1px rgba(60, 64, 67, 0.15);\n",
              "      fill: #174EA6;\n",
              "    }\n",
              "\n",
              "    [theme=dark] .colab-df-convert {\n",
              "      background-color: #3B4455;\n",
              "      fill: #D2E3FC;\n",
              "    }\n",
              "\n",
              "    [theme=dark] .colab-df-convert:hover {\n",
              "      background-color: #434B5C;\n",
              "      box-shadow: 0px 1px 3px 1px rgba(0, 0, 0, 0.15);\n",
              "      filter: drop-shadow(0px 1px 2px rgba(0, 0, 0, 0.3));\n",
              "      fill: #FFFFFF;\n",
              "    }\n",
              "  </style>\n",
              "\n",
              "      <script>\n",
              "        const buttonEl =\n",
              "          document.querySelector('#df-cdad4359-d4e6-4ec7-93de-416790a77df0 button.colab-df-convert');\n",
              "        buttonEl.style.display =\n",
              "          google.colab.kernel.accessAllowed ? 'block' : 'none';\n",
              "\n",
              "        async function convertToInteractive(key) {\n",
              "          const element = document.querySelector('#df-cdad4359-d4e6-4ec7-93de-416790a77df0');\n",
              "          const dataTable =\n",
              "            await google.colab.kernel.invokeFunction('convertToInteractive',\n",
              "                                                     [key], {});\n",
              "          if (!dataTable) return;\n",
              "\n",
              "          const docLinkHtml = 'Like what you see? Visit the ' +\n",
              "            '<a target=\"_blank\" href=https://colab.research.google.com/notebooks/data_table.ipynb>data table notebook</a>'\n",
              "            + ' to learn more about interactive tables.';\n",
              "          element.innerHTML = '';\n",
              "          dataTable['output_type'] = 'display_data';\n",
              "          await google.colab.output.renderOutput(dataTable, element);\n",
              "          const docLink = document.createElement('div');\n",
              "          docLink.innerHTML = docLinkHtml;\n",
              "          element.appendChild(docLink);\n",
              "        }\n",
              "      </script>\n",
              "    </div>\n",
              "  </div>\n",
              "  "
            ],
            "text/plain": [
              "  di_nt      freq       type\n",
              "0    AA  0.108309  seq_di_nt\n",
              "1    AC  0.043021  seq_di_nt\n",
              "2    AG  0.059350  seq_di_nt\n",
              "3    AT  0.139338  seq_di_nt\n",
              "4    CA  0.061831  seq_di_nt"
            ]
          },
          "metadata": {},
          "execution_count": 197
        }
      ]
    },
    {
      "cell_type": "code",
      "source": [
        "# Fig size: https://stackoverflow.com/a/47955814/310453\n",
        "sns.set(rc={'figure.figsize':(11.7,8.27)})\n",
        "\n",
        "sns.barplot(\n",
        "    data= pd.concat([plot_df, expected_df]),\n",
        "    x= 'di_nt',\n",
        "    y= 'freq',\n",
        "    hue='type'\n",
        ").set_title(target_record.description)"
      ],
      "metadata": {
        "colab": {
          "base_uri": "https://localhost:8080/",
          "height": 550
        },
        "outputId": "35fe3f30-09b1-4608-fa06-ed8829fac073",
        "id": "_pL8N3BsE-dz"
      },
      "execution_count": null,
      "outputs": [
        {
          "output_type": "execute_result",
          "data": {
            "text/plain": [
              "Text(0.5, 1.0, 'JMSD01000001.1 Paramecium caudatum strain 43c3d scaffold_0001, whole genome shotgun sequence')"
            ]
          },
          "metadata": {},
          "execution_count": 198
        },
        {
          "output_type": "display_data",
          "data": {
            "image/png": "[encoded data removed]",
            "text/plain": [
              "<Figure size 842.4x595.44 with 1 Axes>"
            ]
          },
          "metadata": {}
        }
      ]
    },
    {
      "cell_type": "markdown",
      "source": [
        "##Перемешиваем нт в исходной последовательности"
      ],
      "metadata": {
        "id": "U_Tz2Fb8V8e8"
      }
    },
    {
      "cell_type": "code",
      "source": [
        "import re\n",
        "rand_seq = re.compile(r'[^ACGT]').sub('', str(target_seq))\n",
        "print(\"%s => %s\" % (len(target_seq), len(rand_seq)))"
      ],
      "metadata": {
        "colab": {
          "base_uri": "https://localhost:8080/"
        },
        "id": "-EksSqnkWMyJ",
        "outputId": "a2d7d98d-795e-4118-8308-69743756d139"
      },
      "execution_count": null,
      "outputs": [
        {
          "output_type": "stream",
          "name": "stdout",
          "text": [
            "793585 => 790345\n"
          ]
        }
      ]
    },
    {
      "cell_type": "code",
      "source": [
        "rand_seq[1:20]"
      ],
      "metadata": {
        "colab": {
          "base_uri": "https://localhost:8080/",
          "height": 35
        },
        "id": "OWu3v53QXejL",
        "outputId": "266e635a-7686-4c49-b727-58bad2041c88"
      },
      "execution_count": null,
      "outputs": [
        {
          "output_type": "execute_result",
          "data": {
            "application/vnd.google.colaboratory.intrinsic+json": {
              "type": "string"
            },
            "text/plain": [
              "'TATAAGGGACATAGCTAAT'"
            ]
          },
          "metadata": {},
          "execution_count": 200
        }
      ]
    },
    {
      "cell_type": "code",
      "source": [
        "from random import shuffle\n",
        "\n",
        "nt_list = list(rand_seq)\n",
        "shuffle(nt_list)   # shuffles in place!\n",
        "rand_seq = ''.join(nt_list)\n",
        "rand_seq[1:20]"
      ],
      "metadata": {
        "colab": {
          "base_uri": "https://localhost:8080/",
          "height": 35
        },
        "id": "25L5vS8AXhe6",
        "outputId": "7f3f8854-42f3-4e5e-999f-0b54a68b4699"
      },
      "execution_count": null,
      "outputs": [
        {
          "output_type": "execute_result",
          "data": {
            "application/vnd.google.colaboratory.intrinsic+json": {
              "type": "string"
            },
            "text/plain": [
              "'AAACGAAAAGATGCTTATT'"
            ]
          },
          "metadata": {},
          "execution_count": 201
        }
      ]
    },
    {
      "cell_type": "code",
      "source": [
        "rand_freq_dict = di_nt_freq_in_seq(rand_seq)\n",
        "rand_freq_dict"
      ],
      "metadata": {
        "colab": {
          "base_uri": "https://localhost:8080/"
        },
        "id": "Xr2Z9NQALOPB",
        "outputId": "f7bb30ad-8089-4826-83d3-5c34c40f4d27"
      },
      "execution_count": null,
      "outputs": [
        {
          "output_type": "execute_result",
          "data": {
            "text/plain": [
              "{'AA': 0.10210039305601049,\n",
              " 'AC': 0.05291925974451359,\n",
              " 'AG': 0.05616333660880009,\n",
              " 'AT': 0.13928785893656512,\n",
              " 'CA': 0.05360301342941369,\n",
              " 'CC': 0.018013702369254286,\n",
              " 'CG': 0.021377879681187904,\n",
              " 'CT': 0.05304345452560323,\n",
              " 'GA': 0.0562206572769953,\n",
              " 'GC': 0.02164674091057976,\n",
              " 'GG': 0.019820668195217817,\n",
              " 'GT': 0.055594224260290426,\n",
              " 'TA': 0.1385467845834698,\n",
              " 'TC': 0.053458346981111474,\n",
              " 'TG': 0.055920406157877495,\n",
              " 'TT': 0.10228327328310952}"
            ]
          },
          "metadata": {},
          "execution_count": 202
        }
      ]
    },
    {
      "cell_type": "code",
      "source": [
        "rand_df = pd.DataFrame(rand_freq_dict.items())\n",
        "rand_df.columns = ['di_nt', 'freq']\n",
        "rand_df['type'] = 'random'\n",
        "rand_df.head()"
      ],
      "metadata": {
        "colab": {
          "base_uri": "https://localhost:8080/",
          "height": 206
        },
        "id": "iu7ejCGkZIUp",
        "outputId": "773ad634-30a7-4b25-b609-330a96bb136c"
      },
      "execution_count": null,
      "outputs": [
        {
          "output_type": "execute_result",
          "data": {
            "text/html": [
              "\n",
              "  <div id=\"df-0c099b5b-24c0-409a-b185-58508c84f906\">\n",
              "    <div class=\"colab-df-container\">\n",
              "      <div>\n",
              "<style scoped>\n",
              "    .dataframe tbody tr th:only-of-type {\n",
              "        vertical-align: middle;\n",
              "    }\n",
              "\n",
              "    .dataframe tbody tr th {\n",
              "        vertical-align: top;\n",
              "    }\n",
              "\n",
              "    .dataframe thead th {\n",
              "        text-align: right;\n",
              "    }\n",
              "</style>\n",
              "<table border=\"1\" class=\"dataframe\">\n",
              "  <thead>\n",
              "    <tr style=\"text-align: right;\">\n",
              "      <th></th>\n",
              "      <th>di_nt</th>\n",
              "      <th>freq</th>\n",
              "      <th>type</th>\n",
              "    </tr>\n",
              "  </thead>\n",
              "  <tbody>\n",
              "    <tr>\n",
              "      <th>0</th>\n",
              "      <td>AA</td>\n",
              "      <td>0.102100</td>\n",
              "      <td>random</td>\n",
              "    </tr>\n",
              "    <tr>\n",
              "      <th>1</th>\n",
              "      <td>AC</td>\n",
              "      <td>0.052919</td>\n",
              "      <td>random</td>\n",
              "    </tr>\n",
              "    <tr>\n",
              "      <th>2</th>\n",
              "      <td>AG</td>\n",
              "      <td>0.056163</td>\n",
              "      <td>random</td>\n",
              "    </tr>\n",
              "    <tr>\n",
              "      <th>3</th>\n",
              "      <td>AT</td>\n",
              "      <td>0.139288</td>\n",
              "      <td>random</td>\n",
              "    </tr>\n",
              "    <tr>\n",
              "      <th>4</th>\n",
              "      <td>CA</td>\n",
              "      <td>0.053603</td>\n",
              "      <td>random</td>\n",
              "    </tr>\n",
              "  </tbody>\n",
              "</table>\n",
              "</div>\n",
              "      <button class=\"colab-df-convert\" onclick=\"convertToInteractive('df-0c099b5b-24c0-409a-b185-58508c84f906')\"\n",
              "              title=\"Convert this dataframe to an interactive table.\"\n",
              "              style=\"display:none;\">\n",
              "        \n",
              "  <svg xmlns=\"http://www.w3.org/2000/svg\" height=\"24px\"viewBox=\"0 0 24 24\"\n",
              "       width=\"24px\">\n",
              "    <path d=\"M0 0h24v24H0V0z\" fill=\"none\"/>\n",
              "    <path d=\"M18.56 5.44l.94 2.06.94-2.06 2.06-.94-2.06-.94-.94-2.06-.94 2.06-2.06.94zm-11 1L8.5 8.5l.94-2.06 2.06-.94-2.06-.94L8.5 2.5l-.94 2.06-2.06.94zm10 10l.94 2.06.94-2.06 2.06-.94-2.06-.94-.94-2.06-.94 2.06-2.06.94z\"/><path d=\"M17.41 7.96l-1.37-1.37c-.4-.4-.92-.59-1.43-.59-.52 0-1.04.2-1.43.59L10.3 9.45l-7.72 7.72c-.78.78-.78 2.05 0 2.83L4 21.41c.39.39.9.59 1.41.59.51 0 1.02-.2 1.41-.59l7.78-7.78 2.81-2.81c.8-.78.8-2.07 0-2.86zM5.41 20L4 18.59l7.72-7.72 1.47 1.35L5.41 20z\"/>\n",
              "  </svg>\n",
              "      </button>\n",
              "      \n",
              "  <style>\n",
              "    .colab-df-container {\n",
              "      display:flex;\n",
              "      flex-wrap:wrap;\n",
              "      gap: 12px;\n",
              "    }\n",
              "\n",
              "    .colab-df-convert {\n",
              "      background-color: #E8F0FE;\n",
              "      border: none;\n",
              "      border-radius: 50%;\n",
              "      cursor: pointer;\n",
              "      display: none;\n",
              "      fill: #1967D2;\n",
              "      height: 32px;\n",
              "      padding: 0 0 0 0;\n",
              "      width: 32px;\n",
              "    }\n",
              "\n",
              "    .colab-df-convert:hover {\n",
              "      background-color: #E2EBFA;\n",
              "      box-shadow: 0px 1px 2px rgba(60, 64, 67, 0.3), 0px 1px 3px 1px rgba(60, 64, 67, 0.15);\n",
              "      fill: #174EA6;\n",
              "    }\n",
              "\n",
              "    [theme=dark] .colab-df-convert {\n",
              "      background-color: #3B4455;\n",
              "      fill: #D2E3FC;\n",
              "    }\n",
              "\n",
              "    [theme=dark] .colab-df-convert:hover {\n",
              "      background-color: #434B5C;\n",
              "      box-shadow: 0px 1px 3px 1px rgba(0, 0, 0, 0.15);\n",
              "      filter: drop-shadow(0px 1px 2px rgba(0, 0, 0, 0.3));\n",
              "      fill: #FFFFFF;\n",
              "    }\n",
              "  </style>\n",
              "\n",
              "      <script>\n",
              "        const buttonEl =\n",
              "          document.querySelector('#df-0c099b5b-24c0-409a-b185-58508c84f906 button.colab-df-convert');\n",
              "        buttonEl.style.display =\n",
              "          google.colab.kernel.accessAllowed ? 'block' : 'none';\n",
              "\n",
              "        async function convertToInteractive(key) {\n",
              "          const element = document.querySelector('#df-0c099b5b-24c0-409a-b185-58508c84f906');\n",
              "          const dataTable =\n",
              "            await google.colab.kernel.invokeFunction('convertToInteractive',\n",
              "                                                     [key], {});\n",
              "          if (!dataTable) return;\n",
              "\n",
              "          const docLinkHtml = 'Like what you see? Visit the ' +\n",
              "            '<a target=\"_blank\" href=https://colab.research.google.com/notebooks/data_table.ipynb>data table notebook</a>'\n",
              "            + ' to learn more about interactive tables.';\n",
              "          element.innerHTML = '';\n",
              "          dataTable['output_type'] = 'display_data';\n",
              "          await google.colab.output.renderOutput(dataTable, element);\n",
              "          const docLink = document.createElement('div');\n",
              "          docLink.innerHTML = docLinkHtml;\n",
              "          element.appendChild(docLink);\n",
              "        }\n",
              "      </script>\n",
              "    </div>\n",
              "  </div>\n",
              "  "
            ],
            "text/plain": [
              "  di_nt      freq    type\n",
              "0    AA  0.102100  random\n",
              "1    AC  0.052919  random\n",
              "2    AG  0.056163  random\n",
              "3    AT  0.139288  random\n",
              "4    CA  0.053603  random"
            ]
          },
          "metadata": {},
          "execution_count": 203
        }
      ]
    },
    {
      "cell_type": "code",
      "source": [
        "_ = sns.barplot(\n",
        "    data= pd.concat([plot_df, expected_df, rand_df]),\n",
        "    x= 'di_nt',\n",
        "    y= 'freq',\n",
        "    hue='type'\n",
        ").set_title(target_record.description)"
      ],
      "metadata": {
        "colab": {
          "base_uri": "https://localhost:8080/",
          "height": 533
        },
        "id": "u29RrL9zZVpg",
        "outputId": "9427226d-e9e1-4be5-d7cf-3c8b8ceb5add"
      },
      "execution_count": null,
      "outputs": [
        {
          "output_type": "display_data",
          "data": {
            "image/png": "[encoded data removed]",
            "text/plain": [
              "<Figure size 842.4x595.44 with 1 Axes>"
            ]
          },
          "metadata": {}
        }
      ]
    }
  ]
}